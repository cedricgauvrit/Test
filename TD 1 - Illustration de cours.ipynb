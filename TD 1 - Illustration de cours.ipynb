{
 "cells": [
  {
   "cell_type": "markdown",
   "id": "e03605e9",
   "metadata": {},
   "source": [
    "# Entrées"
   ]
  },
  {
   "cell_type": "code",
   "execution_count": null,
   "id": "94a36fdf",
   "metadata": {},
   "outputs": [],
   "source": [
    "A=input(\"A=\")"
   ]
  },
  {
   "cell_type": "code",
   "execution_count": null,
   "id": "4d053387",
   "metadata": {},
   "outputs": [],
   "source": [
    "A=input(\"Donner la valeur de A : \") #A est du type chaine de caractère\n",
    "print(A)\n",
    "print(A+5)"
   ]
  },
  {
   "cell_type": "code",
   "execution_count": null,
   "id": "6f6be376",
   "metadata": {},
   "outputs": [],
   "source": [
    "A=input(\"Donner la valeur de A : \")\n",
    "print(A)\n",
    "B=A+str(5) #concaténation de chaines de caractère\n",
    "print(B)"
   ]
  },
  {
   "cell_type": "code",
   "execution_count": null,
   "id": "dbd4b923",
   "metadata": {},
   "outputs": [],
   "source": [
    "type(B)"
   ]
  },
  {
   "cell_type": "code",
   "execution_count": null,
   "id": "9a2b096b",
   "metadata": {},
   "outputs": [],
   "source": [
    "A=int(input(\"Donner la valeur de A : \")) #A est du type entier\n",
    "print(A)\n",
    "print(A+5) #toujours entier\n",
    "print(A+5.0) #conversion en décimal"
   ]
  },
  {
   "cell_type": "code",
   "execution_count": null,
   "id": "7ea14505",
   "metadata": {},
   "outputs": [],
   "source": [
    "A=float(input(\"Donner la valeur de A : \")) #A est du type flottant\n",
    "print(A)"
   ]
  },
  {
   "cell_type": "markdown",
   "id": "ab8d2913",
   "metadata": {},
   "source": [
    "# Calculs et variables"
   ]
  },
  {
   "cell_type": "code",
   "execution_count": null,
   "id": "6ffc5e64",
   "metadata": {},
   "outputs": [],
   "source": [
    "3**2"
   ]
  },
  {
   "cell_type": "code",
   "execution_count": null,
   "id": "61fd57a4",
   "metadata": {},
   "outputs": [],
   "source": [
    "sqrt(49)"
   ]
  },
  {
   "cell_type": "code",
   "execution_count": null,
   "id": "5f1d47a5",
   "metadata": {},
   "outputs": [],
   "source": [
    "from math import *\n",
    "sqrt(49)"
   ]
  },
  {
   "cell_type": "code",
   "execution_count": null,
   "id": "f7498685",
   "metadata": {
    "scrolled": true
   },
   "outputs": [],
   "source": [
    "print(x)"
   ]
  },
  {
   "cell_type": "code",
   "execution_count": null,
   "id": "b99f4823",
   "metadata": {},
   "outputs": [],
   "source": [
    "x=5\n",
    "print(x)\n",
    "x=x+10\n",
    "print(x)\n",
    "x+=20 #raccourci pour additionner\n",
    "print(x)"
   ]
  },
  {
   "cell_type": "code",
   "execution_count": null,
   "id": "b987d352",
   "metadata": {},
   "outputs": [],
   "source": [
    "print(\"ma\"+\"ths\")"
   ]
  },
  {
   "cell_type": "code",
   "execution_count": null,
   "id": "239101aa",
   "metadata": {},
   "outputs": [],
   "source": [
    "int(\"123\")"
   ]
  },
  {
   "cell_type": "code",
   "execution_count": null,
   "id": "8074287c",
   "metadata": {},
   "outputs": [],
   "source": [
    "str(123)"
   ]
  },
  {
   "cell_type": "code",
   "execution_count": null,
   "id": "7b3df70b",
   "metadata": {},
   "outputs": [],
   "source": [
    "print(12+int(\"12\"))"
   ]
  },
  {
   "cell_type": "markdown",
   "id": "c8bf7eb9",
   "metadata": {},
   "source": [
    "# Instruction conditionnelle"
   ]
  },
  {
   "cell_type": "code",
   "execution_count": null,
   "id": "d8fd45ab",
   "metadata": {},
   "outputs": [],
   "source": [
    "A=int(input(\"Quel est votre age ? \"))\n",
    "if A<18:\n",
    "    print(\"Vous êtes majeur\")\n",
    "else:\n",
    "    print(\"Vous n'êtes pas majeur\")"
   ]
  },
  {
   "cell_type": "code",
   "execution_count": null,
   "id": "4637d124",
   "metadata": {},
   "outputs": [],
   "source": [
    "heure=int(input(\"Quelle heure est-il ? \"))\n",
    "if heure<12:\n",
    "    print(\"C'est le matin.\")\n",
    "else:\n",
    "    if heure>=12 and heure<17:\n",
    "        print(\"C'est l'après-midi.\")\n",
    "    else:\n",
    "        if heure>=17:\n",
    "            print(\"C'est le soir.\")"
   ]
  },
  {
   "cell_type": "markdown",
   "id": "921e5f79",
   "metadata": {},
   "source": [
    "Pas très pratique..."
   ]
  },
  {
   "cell_type": "code",
   "execution_count": null,
   "id": "1f422aae",
   "metadata": {},
   "outputs": [],
   "source": [
    "heure=int(input(\"Quelle heure est-il ? \"))\n",
    "if heure<12:\n",
    "    print(\"C'est le matin.\")\n",
    "elif heure<17:\n",
    "    print(\"C'est l'après-midi.\")\n",
    "else:\n",
    "    print(\"C'est le soir.\")"
   ]
  },
  {
   "cell_type": "markdown",
   "id": "e94f1eb2",
   "metadata": {},
   "source": [
    "# Boucle bornée"
   ]
  },
  {
   "cell_type": "code",
   "execution_count": null,
   "id": "ea6259c8",
   "metadata": {},
   "outputs": [],
   "source": [
    "for i in range(1,6):\n",
    "    print(i)"
   ]
  },
  {
   "cell_type": "code",
   "execution_count": null,
   "id": "79414752",
   "metadata": {},
   "outputs": [],
   "source": [
    "for i in range(6):\n",
    "    print(i)"
   ]
  },
  {
   "cell_type": "markdown",
   "id": "bf6efe9c",
   "metadata": {},
   "source": [
    "# Boucle non bornée"
   ]
  },
  {
   "cell_type": "code",
   "execution_count": null,
   "id": "fcfe6852",
   "metadata": {},
   "outputs": [],
   "source": [
    "A=0\n",
    "N=int(input(\"Saisir N : \"))\n",
    "while A<N:\n",
    "    print(A)\n",
    "    A+=2 "
   ]
  },
  {
   "cell_type": "markdown",
   "id": "750f5587",
   "metadata": {},
   "source": [
    "**Attention aux boucles infinies !!**"
   ]
  },
  {
   "cell_type": "code",
   "execution_count": null,
   "id": "50ecc5fe",
   "metadata": {},
   "outputs": [],
   "source": [
    "A=3\n",
    "while A>0:\n",
    "    A+=1\n",
    "print(A)"
   ]
  }
 ],
 "metadata": {
  "kernelspec": {
   "display_name": "Python 3 (ipykernel)",
   "language": "python",
   "name": "python3"
  },
  "language_info": {
   "codemirror_mode": {
    "name": "ipython",
    "version": 3
   },
   "file_extension": ".py",
   "mimetype": "text/x-python",
   "name": "python",
   "nbconvert_exporter": "python",
   "pygments_lexer": "ipython3",
   "version": "3.9.12"
  }
 },
 "nbformat": 4,
 "nbformat_minor": 5
}
